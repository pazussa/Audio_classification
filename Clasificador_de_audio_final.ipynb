{
  "cells": [
    {
      "cell_type": "markdown",
      "id": "cardiovascular-study",
      "metadata": {
        "id": "cardiovascular-study"
      },
      "source": [
        "#### Carga de datos"
      ]
    },
    {
      "cell_type": "code",
      "source": [
        "# requerimentos\n",
        "\n",
        "from google.colab import drive\n",
        "import librosa\n",
        "import matplotlib.pyplot as plt\n",
        "import pandas as pd\n",
        "import os\n",
        "import numpy as np\n",
        "from tqdm import tqdm\n",
        "import csv\n",
        "from collections import Counter \n",
        "import matplotlib.pyplot as plt \n",
        "from sklearn.model_selection import train_test_split\n",
        "import matplotlib.colors as colors\n",
        "from tensorflow.keras.utils import to_categorical\n",
        "from sklearn.preprocessing import LabelEncoder\n",
        "from tensorflow.keras.models import Sequential\n",
        "from tensorflow.keras.layers import Dense,Dropout,Activation,Flatten\n",
        "from tensorflow.keras.optimizers import Adam\n",
        "from sklearn import metrics\n",
        "import tensorflow as tf\n",
        "from keras.layers import Conv1D, GlobalAveragePooling1D, MaxPooling1D, Embedding\n",
        "from tensorflow.keras.callbacks import ModelCheckpoint\n",
        "from datetime import datetime \n",
        "from keras.models import load_model\n",
        "\n",
        "\n",
        "\n",
        "drive.mount('/content/drive')\n",
        "\n",
        "#Nota: Verificar que existe la ruta: /content/drive/MyDrive/UrbanSound8K"
      ],
      "metadata": {
        "colab": {
          "base_uri": "https://localhost:8080/"
        },
        "id": "3-FRtIabb3Rc",
        "outputId": "ce56805b-b26a-4f74-d5e4-c0051895eb49"
      },
      "id": "3-FRtIabb3Rc",
      "execution_count": 1,
      "outputs": [
        {
          "output_type": "stream",
          "name": "stdout",
          "text": [
            "Mounted at /content/drive\n"
          ]
        }
      ]
    },
    {
      "cell_type": "code",
      "execution_count": 2,
      "id": "boxed-central",
      "metadata": {
        "id": "boxed-central",
        "colab": {
          "base_uri": "https://localhost:8080/"
        },
        "outputId": "7983b10e-017b-4ea3-f0c5-8ab54a9292d3"
      },
      "outputs": [
        {
          "output_type": "stream",
          "name": "stderr",
          "text": [
            "/usr/local/lib/python3.7/dist-packages/librosa/core/audio.py:165: UserWarning: PySoundFile failed. Trying audioread instead.\n",
            "  warnings.warn(\"PySoundFile failed. Trying audioread instead.\")\n"
          ]
        }
      ],
      "source": [
        "### Usamos librosa para leer archivos de audio\n",
        "\n",
        "audio_file_path='/content/drive/MyDrive/Uninorte/Todo_cuenta_uninorte/Puntos1-50/Splits/Grabación (2).m4a'\n",
        "librosa_audio_data,librosa_sample_rate=librosa.load(audio_file_path)  # Se carga el archivo de audio en la variable librosa_audio_data y frecuencia de muestreo, por defecto 22050"
      ]
    },
    {
      "cell_type": "code",
      "execution_count": 3,
      "id": "swedish-minute",
      "metadata": {
        "colab": {
          "base_uri": "https://localhost:8080/",
          "height": 282
        },
        "id": "swedish-minute",
        "outputId": "79e5c703-6a68-4771-c398-8f31d454fe62"
      },
      "outputs": [
        {
          "output_type": "execute_result",
          "data": {
            "text/plain": [
              "[<matplotlib.lines.Line2D at 0x7f99b20ddc50>]"
            ]
          },
          "metadata": {},
          "execution_count": 3
        },
        {
          "output_type": "display_data",
          "data": {
            "text/plain": [
              "<Figure size 864x288 with 1 Axes>"
            ],
            "image/png": "[encoded data removed]"
          },
          "metadata": {
            "needs_background": "light"
          }
        }
      ],
      "source": [
        "### Gráfica de audio: librosa reune los dos canales estéreo y lo convierte a un solo canal, con niveles normalizados entre 0 y \n",
        "##La frecuencia de muestreo también queda normalizada a 22050 muestras por segundo\n",
        "\n",
        "plt.figure(figsize=(12, 4))\n",
        "plt.plot(librosa_audio_data)"
      ]
    },
    {
      "cell_type": "markdown",
      "id": "applicable-priest",
      "metadata": {
        "id": "applicable-priest"
      },
      "source": [
        "###   Extracción de características\n",
        "\n",
        "Aquí usamos los llamados coeficientes cepstrales de frecuencia mel (MFCC).\n",
        "Los coeficientes cepstrales de frecuencia mel (MFCC) se utilizan comúnmente en los sistemas de reconocimiento de voz. Esta característica se deriva de la transformada de Fourier de una señal. Los coeficientes obtenidos a partir de la transformada de Fourier se convierten entonces a la escala Mel-frequency, que se asemeja más al oído humano (en decibeles). Finalmente, estos coeficientes se toman como entrada para una transformación cosenoidal, que produce un conjunto de coeficientes que se pueden usar como características para algoritmos de aprendizaje automático."
      ]
    },
    {
      "cell_type": "markdown",
      "source": [
        "La función mfcc() de Librosa calcula los coeficientes MFCC (Mel-Frequency Cepstral Coefficients) a partir del audio. Los parámetros que se le pasan son:\n",
        "\n",
        "y : la data del audio, en este caso librosa_audio_data . sr : el sample rate del audio, en este caso librosa_sample_rate=22050 . n_mfcc : el número de coeficientes MFCC que queremos obtener. En nuestro ejemplo hemos puesto 40:\n"
      ],
      "metadata": {
        "id": "e7uIS_x6z0Rg"
      },
      "id": "e7uIS_x6z0Rg"
    },
    {
      "cell_type": "code",
      "execution_count": 4,
      "id": "chinese-north",
      "metadata": {
        "colab": {
          "base_uri": "https://localhost:8080/"
        },
        "id": "chinese-north",
        "outputId": "b59cb6eb-c720-49de-9549-dd0638439263"
      },
      "outputs": [
        {
          "output_type": "stream",
          "name": "stdout",
          "text": [
            "(40, 412)\n"
          ]
        }
      ],
      "source": [
        "mfccs = librosa.feature.mfcc(y=librosa_audio_data, sr=librosa_sample_rate, n_mfcc=40)\n",
        "print(mfccs.shape)"
      ]
    },
    {
      "cell_type": "code",
      "execution_count": 5,
      "id": "sporting-freeware",
      "metadata": {
        "colab": {
          "base_uri": "https://localhost:8080/"
        },
        "id": "sporting-freeware",
        "outputId": "e46ac3c0-3f3d-4fd0-8705-5593540eb452"
      },
      "outputs": [
        {
          "output_type": "execute_result",
          "data": {
            "text/plain": [
              "array([[-7.9278198e+02, -7.8778149e+02, -7.8445856e+02, ...,\n",
              "        -7.6514667e+02, -7.6602789e+02, -7.8544562e+02],\n",
              "       [ 2.3810198e+01,  3.0660618e+01,  3.5028305e+01, ...,\n",
              "         2.6123592e+01,  2.1131966e+01,  2.1139870e+01],\n",
              "       [ 2.2608212e+01,  2.8810144e+01,  3.2325752e+01, ...,\n",
              "         3.7485718e+01,  3.5509155e+01,  2.4579615e+01],\n",
              "       ...,\n",
              "       [-3.9253068e-01, -1.8957119e+00, -4.5263296e-01, ...,\n",
              "        -5.5598984e+00, -1.7080261e+00, -2.4898505e+00],\n",
              "       [ 5.4560864e-01, -1.2234037e+00, -9.7712219e-02, ...,\n",
              "        -7.3498216e+00, -1.0116992e+01, -6.8009853e+00],\n",
              "       [ 1.1143079e+00, -6.6907465e-01,  1.9910938e-01, ...,\n",
              "        -2.5152607e+00, -1.9100063e+00, -2.8501046e-01]], dtype=float32)"
            ]
          },
          "metadata": {},
          "execution_count": 5
        }
      ],
      "source": [
        "mfccs"
      ]
    },
    {
      "cell_type": "code",
      "source": [
        "\n",
        "df = pd.read_csv('/content/drive/MyDrive/Uninorte/Todo_cuenta_uninorte/UrbanSound8K/metadata/UrbanSound8K.csv') \n",
        "df = df.sample(8732) \n",
        "df.to_csv('dataset2.csv', index=False)\n"
      ],
      "metadata": {
        "id": "rg6tLhUjGP7R"
      },
      "id": "rg6tLhUjGP7R",
      "execution_count": 6,
      "outputs": []
    },
    {
      "cell_type": "code",
      "execution_count": 7,
      "id": "liberal-journalist",
      "metadata": {
        "colab": {
          "base_uri": "https://localhost:8080/",
          "height": 206
        },
        "id": "liberal-journalist",
        "outputId": "2633f8ac-66ac-4f42-a957-1b656cb23404"
      },
      "outputs": [
        {
          "output_type": "execute_result",
          "data": {
            "text/plain": [
              "     slice_file_name    fsID  start   end  salience  fold  classID  \\\n",
              "0   147926-0-0-4.wav  147926    2.0   6.0         1     2        0   \n",
              "1   161005-2-0-4.wav  161005    2.0   6.0         2     9        2   \n",
              "2    34952-8-0-3.wav   34952    1.5   5.5         2     6        8   \n",
              "3  194458-9-0-34.wav  194458   17.0  21.0         2     4        9   \n",
              "4   105415-2-0-6.wav  105415    3.0   7.0         1     1        2   \n",
              "\n",
              "              class  \n",
              "0   air_conditioner  \n",
              "1  children_playing  \n",
              "2             siren  \n",
              "3      street_music  \n",
              "4  children_playing  "
            ],
            "text/html": [
              "\n",
              "  <div id=\"df-2fb8ddb6-d3a1-4d0c-9cc6-f082a6b4fa68\">\n",
              "    <div class=\"colab-df-container\">\n",
              "      <div>\n",
              "<style scoped>\n",
              "    .dataframe tbody tr th:only-of-type {\n",
              "        vertical-align: middle;\n",
              "    }\n",
              "\n",
              "    .dataframe tbody tr th {\n",
              "        vertical-align: top;\n",
              "    }\n",
              "\n",
              "    .dataframe thead th {\n",
              "        text-align: right;\n",
              "    }\n",
              "</style>\n",
              "<table border=\"1\" class=\"dataframe\">\n",
              "  <thead>\n",
              "    <tr style=\"text-align: right;\">\n",
              "      <th></th>\n",
              "      <th>slice_file_name</th>\n",
              "      <th>fsID</th>\n",
              "      <th>start</th>\n",
              "      <th>end</th>\n",
              "      <th>salience</th>\n",
              "      <th>fold</th>\n",
              "      <th>classID</th>\n",
              "      <th>class</th>\n",
              "    </tr>\n",
              "  </thead>\n",
              "  <tbody>\n",
              "    <tr>\n",
              "      <th>0</th>\n",
              "      <td>147926-0-0-4.wav</td>\n",
              "      <td>147926</td>\n",
              "      <td>2.0</td>\n",
              "      <td>6.0</td>\n",
              "      <td>1</td>\n",
              "      <td>2</td>\n",
              "      <td>0</td>\n",
              "      <td>air_conditioner</td>\n",
              "    </tr>\n",
              "    <tr>\n",
              "      <th>1</th>\n",
              "      <td>161005-2-0-4.wav</td>\n",
              "      <td>161005</td>\n",
              "      <td>2.0</td>\n",
              "      <td>6.0</td>\n",
              "      <td>2</td>\n",
              "      <td>9</td>\n",
              "      <td>2</td>\n",
              "      <td>children_playing</td>\n",
              "    </tr>\n",
              "    <tr>\n",
              "      <th>2</th>\n",
              "      <td>34952-8-0-3.wav</td>\n",
              "      <td>34952</td>\n",
              "      <td>1.5</td>\n",
              "      <td>5.5</td>\n",
              "      <td>2</td>\n",
              "      <td>6</td>\n",
              "      <td>8</td>\n",
              "      <td>siren</td>\n",
              "    </tr>\n",
              "    <tr>\n",
              "      <th>3</th>\n",
              "      <td>194458-9-0-34.wav</td>\n",
              "      <td>194458</td>\n",
              "      <td>17.0</td>\n",
              "      <td>21.0</td>\n",
              "      <td>2</td>\n",
              "      <td>4</td>\n",
              "      <td>9</td>\n",
              "      <td>street_music</td>\n",
              "    </tr>\n",
              "    <tr>\n",
              "      <th>4</th>\n",
              "      <td>105415-2-0-6.wav</td>\n",
              "      <td>105415</td>\n",
              "      <td>3.0</td>\n",
              "      <td>7.0</td>\n",
              "      <td>1</td>\n",
              "      <td>1</td>\n",
              "      <td>2</td>\n",
              "      <td>children_playing</td>\n",
              "    </tr>\n",
              "  </tbody>\n",
              "</table>\n",
              "</div>\n",
              "      <button class=\"colab-df-convert\" onclick=\"convertToInteractive('df-2fb8ddb6-d3a1-4d0c-9cc6-f082a6b4fa68')\"\n",
              "              title=\"Convert this dataframe to an interactive table.\"\n",
              "              style=\"display:none;\">\n",
              "        \n",
              "  <svg xmlns=\"http://www.w3.org/2000/svg\" height=\"24px\"viewBox=\"0 0 24 24\"\n",
              "       width=\"24px\">\n",
              "    <path d=\"M0 0h24v24H0V0z\" fill=\"none\"/>\n",
              "    <path d=\"M18.56 5.44l.94 2.06.94-2.06 2.06-.94-2.06-.94-.94-2.06-.94 2.06-2.06.94zm-11 1L8.5 8.5l.94-2.06 2.06-.94-2.06-.94L8.5 2.5l-.94 2.06-2.06.94zm10 10l.94 2.06.94-2.06 2.06-.94-2.06-.94-.94-2.06-.94 2.06-2.06.94z\"/><path d=\"M17.41 7.96l-1.37-1.37c-.4-.4-.92-.59-1.43-.59-.52 0-1.04.2-1.43.59L10.3 9.45l-7.72 7.72c-.78.78-.78 2.05 0 2.83L4 21.41c.39.39.9.59 1.41.59.51 0 1.02-.2 1.41-.59l7.78-7.78 2.81-2.81c.8-.78.8-2.07 0-2.86zM5.41 20L4 18.59l7.72-7.72 1.47 1.35L5.41 20z\"/>\n",
              "  </svg>\n",
              "      </button>\n",
              "      \n",
              "  <style>\n",
              "    .colab-df-container {\n",
              "      display:flex;\n",
              "      flex-wrap:wrap;\n",
              "      gap: 12px;\n",
              "    }\n",
              "\n",
              "    .colab-df-convert {\n",
              "      background-color: #E8F0FE;\n",
              "      border: none;\n",
              "      border-radius: 50%;\n",
              "      cursor: pointer;\n",
              "      display: none;\n",
              "      fill: #1967D2;\n",
              "      height: 32px;\n",
              "      padding: 0 0 0 0;\n",
              "      width: 32px;\n",
              "    }\n",
              "\n",
              "    .colab-df-convert:hover {\n",
              "      background-color: #E2EBFA;\n",
              "      box-shadow: 0px 1px 2px rgba(60, 64, 67, 0.3), 0px 1px 3px 1px rgba(60, 64, 67, 0.15);\n",
              "      fill: #174EA6;\n",
              "    }\n",
              "\n",
              "    [theme=dark] .colab-df-convert {\n",
              "      background-color: #3B4455;\n",
              "      fill: #D2E3FC;\n",
              "    }\n",
              "\n",
              "    [theme=dark] .colab-df-convert:hover {\n",
              "      background-color: #434B5C;\n",
              "      box-shadow: 0px 1px 3px 1px rgba(0, 0, 0, 0.15);\n",
              "      filter: drop-shadow(0px 1px 2px rgba(0, 0, 0, 0.3));\n",
              "      fill: #FFFFFF;\n",
              "    }\n",
              "  </style>\n",
              "\n",
              "      <script>\n",
              "        const buttonEl =\n",
              "          document.querySelector('#df-2fb8ddb6-d3a1-4d0c-9cc6-f082a6b4fa68 button.colab-df-convert');\n",
              "        buttonEl.style.display =\n",
              "          google.colab.kernel.accessAllowed ? 'block' : 'none';\n",
              "\n",
              "        async function convertToInteractive(key) {\n",
              "          const element = document.querySelector('#df-2fb8ddb6-d3a1-4d0c-9cc6-f082a6b4fa68');\n",
              "          const dataTable =\n",
              "            await google.colab.kernel.invokeFunction('convertToInteractive',\n",
              "                                                     [key], {});\n",
              "          if (!dataTable) return;\n",
              "\n",
              "          const docLinkHtml = 'Like what you see? Visit the ' +\n",
              "            '<a target=\"_blank\" href=https://colab.research.google.com/notebooks/data_table.ipynb>data table notebook</a>'\n",
              "            + ' to learn more about interactive tables.';\n",
              "          element.innerHTML = '';\n",
              "          dataTable['output_type'] = 'display_data';\n",
              "          await google.colab.output.renderOutput(dataTable, element);\n",
              "          const docLink = document.createElement('div');\n",
              "          docLink.innerHTML = docLinkHtml;\n",
              "          element.appendChild(docLink);\n",
              "        }\n",
              "      </script>\n",
              "    </div>\n",
              "  </div>\n",
              "  "
            ]
          },
          "metadata": {},
          "execution_count": 7
        }
      ],
      "source": [
        "#### Examinando el dataset de audio\n",
        "\n",
        "audio_dataset_path='/content/drive/MyDrive/Uninorte/Todo_cuenta_uninorte/UrbanSound8K/audio'\n",
        "metadata=pd.read_csv('dataset2.csv')\n",
        "metadata.head()"
      ]
    },
    {
      "cell_type": "code",
      "execution_count": 8,
      "id": "chinese-calendar",
      "metadata": {
        "id": "chinese-calendar"
      },
      "outputs": [],
      "source": [
        "#A continuación se construye un extractor de características mfcc para cada archivo de audio\n",
        "\n",
        "def features_extractor(file):\n",
        "    audio, sample_rate = librosa.load(file_name, res_type='kaiser_fast')  #cargamos el archivo de audio, el filtro kaiser se usa para filtrar ruido en la señal\n",
        "    #extraemos las características MFCC. La variable n_mfcc=40 significa extraer 40 features MFCC de cada archivo de audio.   \n",
        "    mfccs_features = librosa.feature.mfcc(y=audio, sr=sample_rate, n_mfcc=40)\n",
        "    # l siguiente línea calcula la media de las características MFCC y las devuelve como una matriz de 1D. \n",
        "    # La función mfcc devuelve la matriz MFCC en la forma de (n_mfcc(40), n_samples(22050)). \n",
        "    #La función mean requiere que la matriz MFCC esté en la forma de (n_samples, n_mfcc). Por lo tanto, es necesario transponer la matriz MFCC.\n",
        "    mfccs_scaled_features = np.mean(mfccs_features.T,axis=0)\n",
        "    \n",
        "    return mfccs_scaled_features #La matriz mfccs_scaled_features queda de tamaño 1x40, se extrajo la media de los 22050 samples\n",
        "    "
      ]
    },
    {
      "cell_type": "markdown",
      "source": [
        "#Ahora se extraen todos los coeficientes de todos los archivos de audio del conjunto de datos\n",
        "\n"
      ],
      "metadata": {
        "id": "nuclear-sponsorship"
      },
      "id": "nuclear-sponsorship"
    },
    {
      "cell_type": "code",
      "source": [
        "#Convertir esto en una tabla -- por hacer\n",
        "\n",
        "extracted_features=[] \n",
        "for index_num,row in tqdm(metadata.iterrows()): \n",
        "  file_name = os.path.join(os.getcwd() + '/drive/MyDrive/Uninorte/Todo_cuenta_uninorte/UrbanSound8K/audio','fold'+str(row[\"fold\"])+'/',str(row[\"slice_file_name\"])) \n",
        "\n",
        "  final_class_labels=row[\"class\"] \n",
        "  data=features_extractor(file_name) \n",
        "  extracted_features.append([data,final_class_labels])#la matriz de mfccs de los archivos de audio se almacena junto con el label de la clase del archivo de audio."
      ],
      "metadata": {
        "colab": {
          "base_uri": "https://localhost:8080/"
        },
        "id": "MzSIE882sIXh",
        "outputId": "f4c3c126-9af3-458a-ca97-290a2549b045"
      },
      "id": "MzSIE882sIXh",
      "execution_count": 9,
      "outputs": [
        {
          "output_type": "stream",
          "name": "stderr",
          "text": [
            "2358it [15:39,  3.35it/s]/usr/local/lib/python3.7/dist-packages/librosa/core/spectrum.py:224: UserWarning: n_fft=2048 is too small for input signal of length=1323\n",
            "  n_fft, y.shape[-1]\n",
            "4068it [26:43,  2.47it/s]/usr/local/lib/python3.7/dist-packages/librosa/core/spectrum.py:224: UserWarning: n_fft=2048 is too small for input signal of length=1523\n",
            "  n_fft, y.shape[-1]\n",
            "4360it [28:28,  2.47it/s]/usr/local/lib/python3.7/dist-packages/librosa/core/spectrum.py:224: UserWarning: n_fft=2048 is too small for input signal of length=1103\n",
            "  n_fft, y.shape[-1]\n",
            "8732it [55:44,  2.61it/s]\n"
          ]
        }
      ]
    },
    {
      "cell_type": "code",
      "execution_count": 36,
      "id": "acoustic-wagner",
      "metadata": {
        "colab": {
          "base_uri": "https://localhost:8080/",
          "height": 206
        },
        "id": "acoustic-wagner",
        "outputId": "6ea469ac-d689-4715-9c13-fac79c3e6f71"
      },
      "outputs": [
        {
          "output_type": "execute_result",
          "data": {
            "text/plain": [
              "                                             feature             class\n",
              "0  [-315.9747, 153.46362, -3.007722, 30.699106, 9...   air_conditioner\n",
              "1  [-225.5359, 133.75406, -42.700287, 30.955713, ...  children_playing\n",
              "2  [-571.40576, 169.89052, -14.6066065, 19.571056...             siren\n",
              "3  [-307.56174, 152.30336, -29.547773, 33.34747, ...      street_music\n",
              "4  [-212.17639, 124.732376, -44.277145, 13.858212...  children_playing"
            ],
            "text/html": [
              "\n",
              "  <div id=\"df-81ccc904-1b60-4798-9ed5-1e29c77f98e2\">\n",
              "    <div class=\"colab-df-container\">\n",
              "      <div>\n",
              "<style scoped>\n",
              "    .dataframe tbody tr th:only-of-type {\n",
              "        vertical-align: middle;\n",
              "    }\n",
              "\n",
              "    .dataframe tbody tr th {\n",
              "        vertical-align: top;\n",
              "    }\n",
              "\n",
              "    .dataframe thead th {\n",
              "        text-align: right;\n",
              "    }\n",
              "</style>\n",
              "<table border=\"1\" class=\"dataframe\">\n",
              "  <thead>\n",
              "    <tr style=\"text-align: right;\">\n",
              "      <th></th>\n",
              "      <th>feature</th>\n",
              "      <th>class</th>\n",
              "    </tr>\n",
              "  </thead>\n",
              "  <tbody>\n",
              "    <tr>\n",
              "      <th>0</th>\n",
              "      <td>[-315.9747, 153.46362, -3.007722, 30.699106, 9...</td>\n",
              "      <td>air_conditioner</td>\n",
              "    </tr>\n",
              "    <tr>\n",
              "      <th>1</th>\n",
              "      <td>[-225.5359, 133.75406, -42.700287, 30.955713, ...</td>\n",
              "      <td>children_playing</td>\n",
              "    </tr>\n",
              "    <tr>\n",
              "      <th>2</th>\n",
              "      <td>[-571.40576, 169.89052, -14.6066065, 19.571056...</td>\n",
              "      <td>siren</td>\n",
              "    </tr>\n",
              "    <tr>\n",
              "      <th>3</th>\n",
              "      <td>[-307.56174, 152.30336, -29.547773, 33.34747, ...</td>\n",
              "      <td>street_music</td>\n",
              "    </tr>\n",
              "    <tr>\n",
              "      <th>4</th>\n",
              "      <td>[-212.17639, 124.732376, -44.277145, 13.858212...</td>\n",
              "      <td>children_playing</td>\n",
              "    </tr>\n",
              "  </tbody>\n",
              "</table>\n",
              "</div>\n",
              "      <button class=\"colab-df-convert\" onclick=\"convertToInteractive('df-81ccc904-1b60-4798-9ed5-1e29c77f98e2')\"\n",
              "              title=\"Convert this dataframe to an interactive table.\"\n",
              "              style=\"display:none;\">\n",
              "        \n",
              "  <svg xmlns=\"http://www.w3.org/2000/svg\" height=\"24px\"viewBox=\"0 0 24 24\"\n",
              "       width=\"24px\">\n",
              "    <path d=\"M0 0h24v24H0V0z\" fill=\"none\"/>\n",
              "    <path d=\"M18.56 5.44l.94 2.06.94-2.06 2.06-.94-2.06-.94-.94-2.06-.94 2.06-2.06.94zm-11 1L8.5 8.5l.94-2.06 2.06-.94-2.06-.94L8.5 2.5l-.94 2.06-2.06.94zm10 10l.94 2.06.94-2.06 2.06-.94-2.06-.94-.94-2.06-.94 2.06-2.06.94z\"/><path d=\"M17.41 7.96l-1.37-1.37c-.4-.4-.92-.59-1.43-.59-.52 0-1.04.2-1.43.59L10.3 9.45l-7.72 7.72c-.78.78-.78 2.05 0 2.83L4 21.41c.39.39.9.59 1.41.59.51 0 1.02-.2 1.41-.59l7.78-7.78 2.81-2.81c.8-.78.8-2.07 0-2.86zM5.41 20L4 18.59l7.72-7.72 1.47 1.35L5.41 20z\"/>\n",
              "  </svg>\n",
              "      </button>\n",
              "      \n",
              "  <style>\n",
              "    .colab-df-container {\n",
              "      display:flex;\n",
              "      flex-wrap:wrap;\n",
              "      gap: 12px;\n",
              "    }\n",
              "\n",
              "    .colab-df-convert {\n",
              "      background-color: #E8F0FE;\n",
              "      border: none;\n",
              "      border-radius: 50%;\n",
              "      cursor: pointer;\n",
              "      display: none;\n",
              "      fill: #1967D2;\n",
              "      height: 32px;\n",
              "      padding: 0 0 0 0;\n",
              "      width: 32px;\n",
              "    }\n",
              "\n",
              "    .colab-df-convert:hover {\n",
              "      background-color: #E2EBFA;\n",
              "      box-shadow: 0px 1px 2px rgba(60, 64, 67, 0.3), 0px 1px 3px 1px rgba(60, 64, 67, 0.15);\n",
              "      fill: #174EA6;\n",
              "    }\n",
              "\n",
              "    [theme=dark] .colab-df-convert {\n",
              "      background-color: #3B4455;\n",
              "      fill: #D2E3FC;\n",
              "    }\n",
              "\n",
              "    [theme=dark] .colab-df-convert:hover {\n",
              "      background-color: #434B5C;\n",
              "      box-shadow: 0px 1px 3px 1px rgba(0, 0, 0, 0.15);\n",
              "      filter: drop-shadow(0px 1px 2px rgba(0, 0, 0, 0.3));\n",
              "      fill: #FFFFFF;\n",
              "    }\n",
              "  </style>\n",
              "\n",
              "      <script>\n",
              "        const buttonEl =\n",
              "          document.querySelector('#df-81ccc904-1b60-4798-9ed5-1e29c77f98e2 button.colab-df-convert');\n",
              "        buttonEl.style.display =\n",
              "          google.colab.kernel.accessAllowed ? 'block' : 'none';\n",
              "\n",
              "        async function convertToInteractive(key) {\n",
              "          const element = document.querySelector('#df-81ccc904-1b60-4798-9ed5-1e29c77f98e2');\n",
              "          const dataTable =\n",
              "            await google.colab.kernel.invokeFunction('convertToInteractive',\n",
              "                                                     [key], {});\n",
              "          if (!dataTable) return;\n",
              "\n",
              "          const docLinkHtml = 'Like what you see? Visit the ' +\n",
              "            '<a target=\"_blank\" href=https://colab.research.google.com/notebooks/data_table.ipynb>data table notebook</a>'\n",
              "            + ' to learn more about interactive tables.';\n",
              "          element.innerHTML = '';\n",
              "          dataTable['output_type'] = 'display_data';\n",
              "          await google.colab.output.renderOutput(dataTable, element);\n",
              "          const docLink = document.createElement('div');\n",
              "          docLink.innerHTML = docLinkHtml;\n",
              "          element.appendChild(docLink);\n",
              "        }\n",
              "      </script>\n",
              "    </div>\n",
              "  </div>\n",
              "  "
            ]
          },
          "metadata": {},
          "execution_count": 36
        }
      ],
      "source": [
        "extracted_features_df=pd.DataFrame(extracted_features,columns=['feature','class'])\n",
        "extracted_features_df.head()\n"
      ]
    },
    {
      "cell_type": "code",
      "source": [
        "# guardar dataset de características\n",
        "extracted_features_df.to_csv(\"extract.csv\")"
      ],
      "metadata": {
        "id": "zEYETrrVVbzF"
      },
      "id": "zEYETrrVVbzF",
      "execution_count": 41,
      "outputs": []
    },
    {
      "cell_type": "code",
      "source": [
        "## ver las clases de sonido de Urban\n",
        " \n",
        "plt.style.use('seaborn-poster')\n",
        "\n",
        "\n",
        "with open('/content/dataset2.csv', 'r') as f:\n",
        "#with open('/content/drive/MyDrive/Uninorte/Todo_cuenta_uninorte/UrbanSound8K/metadata/UrbanSound8K.csv', 'r') as f: \n",
        "  reader = csv.reader(f) \n",
        "  types = [row[7] for row in reader] \n",
        "  counts = Counter(types) \n",
        "  labels, values = zip(*counts.items()) \n",
        "  plt.pie(values, labels=labels) \n",
        "  plt.show()\n",
        "\n"
      ],
      "metadata": {
        "colab": {
          "base_uri": "https://localhost:8080/",
          "height": 509
        },
        "id": "Qf-HX_eJtM9d",
        "outputId": "2c0a880f-0f89-46b0-b263-a20cca831dee"
      },
      "id": "Qf-HX_eJtM9d",
      "execution_count": 11,
      "outputs": [
        {
          "output_type": "display_data",
          "data": {
            "text/plain": [
              "<Figure size 921.6x633.6 with 1 Axes>"
            ],
            "image/png": "[encoded data removed]"
          },
          "metadata": {}
        }
      ]
    },
    {
      "cell_type": "markdown",
      "source": [
        ""
      ],
      "metadata": {
        "id": "MQITUCbZHBIq"
      },
      "id": "MQITUCbZHBIq"
    },
    {
      "cell_type": "code",
      "source": [
        "### Se separa la variable independiente (coeficientes) de la variable dependiente (clase de audio)\n",
        "X=np.array(extracted_features_df['feature'].tolist()) #var independiente\n",
        "y=np.array(extracted_features_df['class'].tolist()) #var dependiente\n",
        "\n",
        "\n",
        "X_traingraph,X_testgraph,y_traingraph,y_testgraph=train_test_split(X,y,test_size=0.003,random_state=0)\n",
        "ynew = []\n",
        "for i in range(len(y_testgraph)):\n",
        "    if y_testgraph[i] == \"dog_bark\":  \n",
        "        ynew.append(\"orange\")\n",
        "\n",
        "    if y_testgraph[i] == \"drilling\":  \n",
        "        ynew.append(\"blue\") \n",
        "\n",
        "    if y_testgraph[i] == \"jackhammer\":  \n",
        "        ynew.append(\"cornflowerblue\") \n",
        "\n",
        "    if y_testgraph[i] == \"engine_idling\":  \n",
        "        ynew.append(\"lime\") \n",
        "\n",
        "    if y_testgraph[i] == \"siren\":  \n",
        "        ynew.append(\"slategrey\") \n",
        "\n",
        "    if y_testgraph[i] == \"gun_shot\":  \n",
        "        ynew.append(\"pink\")\n",
        "\n",
        "    if y_testgraph[i] == \"street_music\":  \n",
        "        ynew.append(\"brown\")\n",
        "\n",
        "    if y_testgraph[i] == \"air_conditioner\":  \n",
        "        ynew.append(\"violet\")\n",
        "\n",
        "    if y_testgraph[i] == \"car_horn\":  \n",
        "        ynew.append(\"red\")\n",
        "\n",
        "    if y_testgraph[i] == \"children_playing\":  \n",
        "        ynew.append(\"green\")\n",
        "\n",
        "\n",
        "ynew = np.array(ynew)\n",
        "\n",
        "sc = pd.DataFrame(X_testgraph).T  # Convierte la lista de listas en un dataframe y lo transpone (por defecto es por columnas)\n",
        "\n",
        "                          # Itera sobre las columnas.\n",
        "for i in range(12):  \n",
        "\n",
        "      plt.scatter([i] * len(sc.iloc[i]), sc.iloc[i],c=ynew, s=100) \n",
        "\n",
        "plt.style.use('seaborn-talk')\n"
      ],
      "metadata": {
        "colab": {
          "base_uri": "https://localhost:8080/",
          "height": 539
        },
        "id": "img1FbKt0mAM",
        "outputId": "47d98134-3c47-43b8-eeb5-31c3cbcaf12a"
      },
      "id": "img1FbKt0mAM",
      "execution_count": 12,
      "outputs": [
        {
          "output_type": "display_data",
          "data": {
            "text/plain": [
              "<Figure size 921.6x633.6 with 1 Axes>"
            ],
            "image/png": "[encoded data removed]"
          },
          "metadata": {
            "needs_background": "light"
          }
        }
      ]
    },
    {
      "cell_type": "code",
      "source": [
        "X_testgraph.shape"
      ],
      "metadata": {
        "colab": {
          "base_uri": "https://localhost:8080/"
        },
        "id": "lZxN0xA35Qfj",
        "outputId": "64d9392b-53b2-4cbf-eebb-3158c845f951"
      },
      "id": "lZxN0xA35Qfj",
      "execution_count": 13,
      "outputs": [
        {
          "output_type": "execute_result",
          "data": {
            "text/plain": [
              "(27, 40)"
            ]
          },
          "metadata": {},
          "execution_count": 13
        }
      ]
    },
    {
      "cell_type": "code",
      "source": [
        "\n",
        "\n",
        "sc = pd.DataFrame(X_testgraph).T  # Convierte la lista de listas en un dataframe y lo transpone (por defecto es por columnas)\n",
        "                          # Itera sobre las columnas.\n",
        "for i in range(12):  \n",
        "      \n",
        "      plt.scatter([i] * len(sc.iloc[i]), sc.iloc[i],c=ynew=='lime', s=100, cmap = colors.ListedColormap(['black', 'lime'])) \n",
        "\n",
        "plt.style.use('seaborn-talk')\n",
        "      \n",
        "\n"
      ],
      "metadata": {
        "colab": {
          "base_uri": "https://localhost:8080/",
          "height": 445
        },
        "id": "gCIuf6hDJKF_",
        "outputId": "e03295c8-0535-4f43-ca33-e22df56f107f"
      },
      "id": "gCIuf6hDJKF_",
      "execution_count": 14,
      "outputs": [
        {
          "output_type": "display_data",
          "data": {
            "text/plain": [
              "<Figure size 748.8x514.8 with 1 Axes>"
            ],
            "image/png": "[encoded data removed]"
          },
          "metadata": {
            "needs_background": "light"
          }
        }
      ]
    },
    {
      "cell_type": "code",
      "source": [
        "!pip install --upgrade tensorflow  # por si las moscas"
      ],
      "metadata": {
        "id": "1gvkiAt3gKgr",
        "colab": {
          "base_uri": "https://localhost:8080/"
        },
        "outputId": "9665ed76-15b4-436f-8c51-389eb37a0d5b"
      },
      "id": "1gvkiAt3gKgr",
      "execution_count": 15,
      "outputs": [
        {
          "output_type": "stream",
          "name": "stdout",
          "text": [
            "Requirement already satisfied: tensorflow in /usr/local/lib/python3.7/dist-packages (2.8.0)\n",
            "Requirement already satisfied: h5py>=2.9.0 in /usr/local/lib/python3.7/dist-packages (from tensorflow) (3.1.0)\n",
            "Requirement already satisfied: astunparse>=1.6.0 in /usr/local/lib/python3.7/dist-packages (from tensorflow) (1.6.3)\n",
            "Requirement already satisfied: flatbuffers>=1.12 in /usr/local/lib/python3.7/dist-packages (from tensorflow) (2.0)\n",
            "Requirement already satisfied: tensorboard<2.9,>=2.8 in /usr/local/lib/python3.7/dist-packages (from tensorflow) (2.8.0)\n",
            "Requirement already satisfied: setuptools in /usr/local/lib/python3.7/dist-packages (from tensorflow) (57.4.0)\n",
            "Requirement already satisfied: protobuf>=3.9.2 in /usr/local/lib/python3.7/dist-packages (from tensorflow) (3.17.3)\n",
            "Requirement already satisfied: keras<2.9,>=2.8.0rc0 in /usr/local/lib/python3.7/dist-packages (from tensorflow) (2.8.0)\n",
            "Requirement already satisfied: six>=1.12.0 in /usr/local/lib/python3.7/dist-packages (from tensorflow) (1.15.0)\n",
            "Requirement already satisfied: grpcio<2.0,>=1.24.3 in /usr/local/lib/python3.7/dist-packages (from tensorflow) (1.44.0)\n",
            "Requirement already satisfied: tensorflow-io-gcs-filesystem>=0.23.1 in /usr/local/lib/python3.7/dist-packages (from tensorflow) (0.25.0)\n",
            "Collecting tf-estimator-nightly==2.8.0.dev2021122109\n",
            "  Downloading tf_estimator_nightly-2.8.0.dev2021122109-py2.py3-none-any.whl (462 kB)\n",
            "\u001b[K     |████████████████████████████████| 462 kB 5.1 MB/s \n",
            "\u001b[?25hRequirement already satisfied: typing-extensions>=3.6.6 in /usr/local/lib/python3.7/dist-packages (from tensorflow) (4.2.0)\n",
            "Requirement already satisfied: google-pasta>=0.1.1 in /usr/local/lib/python3.7/dist-packages (from tensorflow) (0.2.0)\n",
            "Requirement already satisfied: opt-einsum>=2.3.2 in /usr/local/lib/python3.7/dist-packages (from tensorflow) (3.3.0)\n",
            "Requirement already satisfied: libclang>=9.0.1 in /usr/local/lib/python3.7/dist-packages (from tensorflow) (14.0.1)\n",
            "Requirement already satisfied: numpy>=1.20 in /usr/local/lib/python3.7/dist-packages (from tensorflow) (1.21.6)\n",
            "Requirement already satisfied: wrapt>=1.11.0 in /usr/local/lib/python3.7/dist-packages (from tensorflow) (1.14.0)\n",
            "Requirement already satisfied: absl-py>=0.4.0 in /usr/local/lib/python3.7/dist-packages (from tensorflow) (1.0.0)\n",
            "Requirement already satisfied: termcolor>=1.1.0 in /usr/local/lib/python3.7/dist-packages (from tensorflow) (1.1.0)\n",
            "Requirement already satisfied: gast>=0.2.1 in /usr/local/lib/python3.7/dist-packages (from tensorflow) (0.5.3)\n",
            "Requirement already satisfied: keras-preprocessing>=1.1.1 in /usr/local/lib/python3.7/dist-packages (from tensorflow) (1.1.2)\n",
            "Requirement already satisfied: wheel<1.0,>=0.23.0 in /usr/local/lib/python3.7/dist-packages (from astunparse>=1.6.0->tensorflow) (0.37.1)\n",
            "Requirement already satisfied: cached-property in /usr/local/lib/python3.7/dist-packages (from h5py>=2.9.0->tensorflow) (1.5.2)\n",
            "Requirement already satisfied: google-auth<3,>=1.6.3 in /usr/local/lib/python3.7/dist-packages (from tensorboard<2.9,>=2.8->tensorflow) (1.35.0)\n",
            "Requirement already satisfied: markdown>=2.6.8 in /usr/local/lib/python3.7/dist-packages (from tensorboard<2.9,>=2.8->tensorflow) (3.3.6)\n",
            "Requirement already satisfied: requests<3,>=2.21.0 in /usr/local/lib/python3.7/dist-packages (from tensorboard<2.9,>=2.8->tensorflow) (2.23.0)\n",
            "Requirement already satisfied: tensorboard-data-server<0.7.0,>=0.6.0 in /usr/local/lib/python3.7/dist-packages (from tensorboard<2.9,>=2.8->tensorflow) (0.6.1)\n",
            "Requirement already satisfied: werkzeug>=0.11.15 in /usr/local/lib/python3.7/dist-packages (from tensorboard<2.9,>=2.8->tensorflow) (1.0.1)\n",
            "Requirement already satisfied: google-auth-oauthlib<0.5,>=0.4.1 in /usr/local/lib/python3.7/dist-packages (from tensorboard<2.9,>=2.8->tensorflow) (0.4.6)\n",
            "Requirement already satisfied: tensorboard-plugin-wit>=1.6.0 in /usr/local/lib/python3.7/dist-packages (from tensorboard<2.9,>=2.8->tensorflow) (1.8.1)\n",
            "Requirement already satisfied: cachetools<5.0,>=2.0.0 in /usr/local/lib/python3.7/dist-packages (from google-auth<3,>=1.6.3->tensorboard<2.9,>=2.8->tensorflow) (4.2.4)\n",
            "Requirement already satisfied: rsa<5,>=3.1.4 in /usr/local/lib/python3.7/dist-packages (from google-auth<3,>=1.6.3->tensorboard<2.9,>=2.8->tensorflow) (4.8)\n",
            "Requirement already satisfied: pyasn1-modules>=0.2.1 in /usr/local/lib/python3.7/dist-packages (from google-auth<3,>=1.6.3->tensorboard<2.9,>=2.8->tensorflow) (0.2.8)\n",
            "Requirement already satisfied: requests-oauthlib>=0.7.0 in /usr/local/lib/python3.7/dist-packages (from google-auth-oauthlib<0.5,>=0.4.1->tensorboard<2.9,>=2.8->tensorflow) (1.3.1)\n",
            "Requirement already satisfied: importlib-metadata>=4.4 in /usr/local/lib/python3.7/dist-packages (from markdown>=2.6.8->tensorboard<2.9,>=2.8->tensorflow) (4.11.3)\n",
            "Requirement already satisfied: zipp>=0.5 in /usr/local/lib/python3.7/dist-packages (from importlib-metadata>=4.4->markdown>=2.6.8->tensorboard<2.9,>=2.8->tensorflow) (3.8.0)\n",
            "Requirement already satisfied: pyasn1<0.5.0,>=0.4.6 in /usr/local/lib/python3.7/dist-packages (from pyasn1-modules>=0.2.1->google-auth<3,>=1.6.3->tensorboard<2.9,>=2.8->tensorflow) (0.4.8)\n",
            "Requirement already satisfied: certifi>=2017.4.17 in /usr/local/lib/python3.7/dist-packages (from requests<3,>=2.21.0->tensorboard<2.9,>=2.8->tensorflow) (2021.10.8)\n",
            "Requirement already satisfied: chardet<4,>=3.0.2 in /usr/local/lib/python3.7/dist-packages (from requests<3,>=2.21.0->tensorboard<2.9,>=2.8->tensorflow) (3.0.4)\n",
            "Requirement already satisfied: idna<3,>=2.5 in /usr/local/lib/python3.7/dist-packages (from requests<3,>=2.21.0->tensorboard<2.9,>=2.8->tensorflow) (2.10)\n",
            "Requirement already satisfied: urllib3!=1.25.0,!=1.25.1,<1.26,>=1.21.1 in /usr/local/lib/python3.7/dist-packages (from requests<3,>=2.21.0->tensorboard<2.9,>=2.8->tensorflow) (1.24.3)\n",
            "Requirement already satisfied: oauthlib>=3.0.0 in /usr/local/lib/python3.7/dist-packages (from requests-oauthlib>=0.7.0->google-auth-oauthlib<0.5,>=0.4.1->tensorboard<2.9,>=2.8->tensorflow) (3.2.0)\n",
            "Installing collected packages: tf-estimator-nightly\n",
            "Successfully installed tf-estimator-nightly-2.8.0.dev2021122109\n"
          ]
        }
      ]
    },
    {
      "cell_type": "code",
      "execution_count": 16,
      "id": "wired-church",
      "metadata": {
        "id": "wired-church"
      },
      "outputs": [],
      "source": [
        "#se pasa y a variable categórica con una matriz de codificaciones (vectores de 10 elementos, donde la posición del 1 corresponde a la clase)\n",
        "\n",
        "\n",
        "labelencoder=LabelEncoder()\n",
        "y=to_categorical(labelencoder.fit_transform(y))\n"
      ]
    },
    {
      "cell_type": "code",
      "execution_count": 17,
      "id": "documentary-priority",
      "metadata": {
        "id": "documentary-priority"
      },
      "outputs": [],
      "source": [
        "### Se separan los datos de prueba y entrenamiento\n",
        "\n",
        "X_train,X_test,y_train,y_test=train_test_split(X,y,test_size=0.2,random_state=0)"
      ]
    },
    {
      "cell_type": "code",
      "source": [
        "y_train"
      ],
      "metadata": {
        "colab": {
          "base_uri": "https://localhost:8080/"
        },
        "id": "hr4r6C2T5Xns",
        "outputId": "d48e0725-b096-4057-83a1-1ec46a055e8a"
      },
      "id": "hr4r6C2T5Xns",
      "execution_count": 18,
      "outputs": [
        {
          "output_type": "execute_result",
          "data": {
            "text/plain": [
              "array([[0., 0., 0., ..., 0., 0., 1.],\n",
              "       [0., 0., 1., ..., 0., 0., 0.],\n",
              "       [0., 0., 0., ..., 0., 0., 0.],\n",
              "       ...,\n",
              "       [1., 0., 0., ..., 0., 0., 0.],\n",
              "       [0., 0., 0., ..., 1., 0., 0.],\n",
              "       [0., 0., 0., ..., 0., 0., 0.]], dtype=float32)"
            ]
          },
          "metadata": {},
          "execution_count": 18
        }
      ]
    },
    {
      "cell_type": "markdown",
      "id": "express-vessel",
      "metadata": {
        "id": "express-vessel"
      },
      "source": [
        "### Modelo"
      ]
    },
    {
      "cell_type": "code",
      "execution_count": 18,
      "id": "loose-portugal",
      "metadata": {
        "id": "loose-portugal"
      },
      "outputs": [],
      "source": [
        ""
      ]
    },
    {
      "cell_type": "code",
      "execution_count": 18,
      "id": "indonesian-accessory",
      "metadata": {
        "id": "indonesian-accessory"
      },
      "outputs": [],
      "source": [
        ""
      ]
    },
    {
      "cell_type": "code",
      "execution_count": 19,
      "id": "valuable-substitute",
      "metadata": {
        "id": "valuable-substitute",
        "colab": {
          "base_uri": "https://localhost:8080/"
        },
        "outputId": "0c87fbc7-8430-4588-baa2-05ec7290612f"
      },
      "outputs": [
        {
          "output_type": "execute_result",
          "data": {
            "text/plain": [
              "10"
            ]
          },
          "metadata": {},
          "execution_count": 19
        }
      ],
      "source": [
        "### Número de clases de audio\n",
        "num_labels=y.shape[1] #numero de columnas en y (10)\n",
        "\n",
        "num_labels"
      ]
    },
    {
      "cell_type": "code",
      "source": [
        "\n",
        "\n",
        "activation = 'softmax' if num_labels > 2 else 'sigmoid'\n",
        "model = Sequential()\n",
        "model.add(Conv1D(64, 3, input_shape=(40,1)))\n",
        "model.add(Activation('relu'))\n",
        "model.add(Conv1D(64, 3))\n",
        "model.add(Dropout(0.1))\n",
        "model.add(Activation('relu'))\n",
        "model.add(Conv1D(128, 3))\n",
        "model.add(Activation('relu'))\n",
        "model.add(Dropout(0.2))\n",
        "model.add(Conv1D(128, 3))\n",
        "model.add(Activation('relu'))\n",
        "model.add(GlobalAveragePooling1D())\n",
        "model.add(Dropout(0.4))\n",
        "model.add(Dense(num_labels))\n",
        "model.add(Activation('softmax' if num_labels > 2 else 'sigmoid'))"
      ],
      "metadata": {
        "id": "STuruuuxC94j"
      },
      "id": "STuruuuxC94j",
      "execution_count": 20,
      "outputs": []
    },
    {
      "cell_type": "code",
      "source": [
        ""
      ],
      "metadata": {
        "id": "JMcZaAyTksm8"
      },
      "id": "JMcZaAyTksm8",
      "execution_count": 20,
      "outputs": []
    },
    {
      "cell_type": "code",
      "execution_count": 21,
      "id": "described-anaheim",
      "metadata": {
        "id": "described-anaheim",
        "colab": {
          "base_uri": "https://localhost:8080/"
        },
        "outputId": "b79c5b33-f2ba-4ea8-eca3-b8972b423d42"
      },
      "outputs": [
        {
          "output_type": "stream",
          "name": "stdout",
          "text": [
            "Model: \"sequential\"\n",
            "_________________________________________________________________\n",
            " Layer (type)                Output Shape              Param #   \n",
            "=================================================================\n",
            " conv1d (Conv1D)             (None, 38, 64)            256       \n",
            "                                                                 \n",
            " activation (Activation)     (None, 38, 64)            0         \n",
            "                                                                 \n",
            " conv1d_1 (Conv1D)           (None, 36, 64)            12352     \n",
            "                                                                 \n",
            " dropout (Dropout)           (None, 36, 64)            0         \n",
            "                                                                 \n",
            " activation_1 (Activation)   (None, 36, 64)            0         \n",
            "                                                                 \n",
            " conv1d_2 (Conv1D)           (None, 34, 128)           24704     \n",
            "                                                                 \n",
            " activation_2 (Activation)   (None, 34, 128)           0         \n",
            "                                                                 \n",
            " dropout_1 (Dropout)         (None, 34, 128)           0         \n",
            "                                                                 \n",
            " conv1d_3 (Conv1D)           (None, 32, 128)           49280     \n",
            "                                                                 \n",
            " activation_3 (Activation)   (None, 32, 128)           0         \n",
            "                                                                 \n",
            " global_average_pooling1d (G  (None, 128)              0         \n",
            " lobalAveragePooling1D)                                          \n",
            "                                                                 \n",
            " dropout_2 (Dropout)         (None, 128)               0         \n",
            "                                                                 \n",
            " dense (Dense)               (None, 10)                1290      \n",
            "                                                                 \n",
            " activation_4 (Activation)   (None, 10)                0         \n",
            "                                                                 \n",
            "=================================================================\n",
            "Total params: 87,882\n",
            "Trainable params: 87,882\n",
            "Non-trainable params: 0\n",
            "_________________________________________________________________\n"
          ]
        }
      ],
      "source": [
        "model.summary()"
      ]
    },
    {
      "cell_type": "code",
      "execution_count": 22,
      "id": "radical-finding",
      "metadata": {
        "id": "radical-finding"
      },
      "outputs": [],
      "source": [
        "model.compile(loss='categorical_crossentropy',metrics=['accuracy'],optimizer='adam') # estamos usando categorical_crossentropy como nuestra función de pérdida porque tenemos un problema de clasificación multiclase\n",
        "\n",
        "\n",
        "##Adam es una variación del algoritmo de optimización gradiente descendente estocástico. Es más eficiente que el algoritmo de descenso de gradiente clásico y, por lo tanto, se usa a menudo en la implementación de redes neuronales profundas.\n"
      ]
    },
    {
      "cell_type": "code",
      "source": [
        "#!pip install keras\n",
        "#!pip install pydot\n",
        "#!apt-get install graphviz -y"
      ],
      "metadata": {
        "id": "8eprrRtLIxjg"
      },
      "id": "8eprrRtLIxjg",
      "execution_count": 23,
      "outputs": []
    },
    {
      "cell_type": "code",
      "source": [
        "#from keras.utils import plot_model   # pip install pydot, pip install graphviz\n",
        "#plot_model(model, to_file='model.png')"
      ],
      "metadata": {
        "id": "UJZIu5c15nei"
      },
      "id": "UJZIu5c15nei",
      "execution_count": 24,
      "outputs": []
    },
    {
      "cell_type": "code",
      "execution_count": 25,
      "id": "alpha-adapter",
      "metadata": {
        "id": "alpha-adapter",
        "colab": {
          "base_uri": "https://localhost:8080/"
        },
        "outputId": "a0f1dfea-f5b1-4702-db42-7ad59b31e7cd"
      },
      "outputs": [
        {
          "output_type": "stream",
          "name": "stdout",
          "text": [
            "Epoch 1/55\n",
            "218/219 [============================>.] - ETA: 0s - loss: 1.8771 - accuracy: 0.3258\n",
            "Epoch 1: val_loss improved from inf to 1.49779, saving model to saved_models/audio_classification.hdf5\n",
            "219/219 [==============================] - 12s 48ms/step - loss: 1.8767 - accuracy: 0.3258 - val_loss: 1.4978 - val_accuracy: 0.4740\n",
            "Epoch 2/55\n",
            "219/219 [==============================] - ETA: 0s - loss: 1.5158 - accuracy: 0.4671\n",
            "Epoch 2: val_loss improved from 1.49779 to 1.28801, saving model to saved_models/audio_classification.hdf5\n",
            "219/219 [==============================] - 10s 47ms/step - loss: 1.5158 - accuracy: 0.4671 - val_loss: 1.2880 - val_accuracy: 0.5507\n",
            "Epoch 3/55\n",
            "217/219 [============================>.] - ETA: 0s - loss: 1.3668 - accuracy: 0.5219\n",
            "Epoch 3: val_loss improved from 1.28801 to 1.18047, saving model to saved_models/audio_classification.hdf5\n",
            "219/219 [==============================] - 11s 50ms/step - loss: 1.3663 - accuracy: 0.5221 - val_loss: 1.1805 - val_accuracy: 0.5953\n",
            "Epoch 4/55\n",
            "218/219 [============================>.] - ETA: 0s - loss: 1.2629 - accuracy: 0.5645\n",
            "Epoch 4: val_loss improved from 1.18047 to 1.11958, saving model to saved_models/audio_classification.hdf5\n",
            "219/219 [==============================] - 10s 45ms/step - loss: 1.2631 - accuracy: 0.5644 - val_loss: 1.1196 - val_accuracy: 0.6119\n",
            "Epoch 5/55\n",
            "218/219 [============================>.] - ETA: 0s - loss: 1.1891 - accuracy: 0.5906\n",
            "Epoch 5: val_loss improved from 1.11958 to 1.01964, saving model to saved_models/audio_classification.hdf5\n",
            "219/219 [==============================] - 6s 27ms/step - loss: 1.1888 - accuracy: 0.5907 - val_loss: 1.0196 - val_accuracy: 0.6651\n",
            "Epoch 6/55\n",
            "219/219 [==============================] - ETA: 0s - loss: 1.1122 - accuracy: 0.6166\n",
            "Epoch 6: val_loss improved from 1.01964 to 0.96665, saving model to saved_models/audio_classification.hdf5\n",
            "219/219 [==============================] - 6s 26ms/step - loss: 1.1122 - accuracy: 0.6166 - val_loss: 0.9666 - val_accuracy: 0.6640\n",
            "Epoch 7/55\n",
            "217/219 [============================>.] - ETA: 0s - loss: 1.0466 - accuracy: 0.6400\n",
            "Epoch 7: val_loss improved from 0.96665 to 0.91525, saving model to saved_models/audio_classification.hdf5\n",
            "219/219 [==============================] - 6s 27ms/step - loss: 1.0461 - accuracy: 0.6399 - val_loss: 0.9153 - val_accuracy: 0.6869\n",
            "Epoch 8/55\n",
            "218/219 [============================>.] - ETA: 0s - loss: 0.9951 - accuracy: 0.6594\n",
            "Epoch 8: val_loss improved from 0.91525 to 0.86473, saving model to saved_models/audio_classification.hdf5\n",
            "219/219 [==============================] - 6s 27ms/step - loss: 0.9946 - accuracy: 0.6597 - val_loss: 0.8647 - val_accuracy: 0.7218\n",
            "Epoch 9/55\n",
            "219/219 [==============================] - ETA: 0s - loss: 0.9463 - accuracy: 0.6757\n",
            "Epoch 9: val_loss improved from 0.86473 to 0.82925, saving model to saved_models/audio_classification.hdf5\n",
            "219/219 [==============================] - 6s 26ms/step - loss: 0.9463 - accuracy: 0.6757 - val_loss: 0.8293 - val_accuracy: 0.7230\n",
            "Epoch 10/55\n",
            "217/219 [============================>.] - ETA: 0s - loss: 0.9302 - accuracy: 0.6842\n",
            "Epoch 10: val_loss improved from 0.82925 to 0.77189, saving model to saved_models/audio_classification.hdf5\n",
            "219/219 [==============================] - 6s 25ms/step - loss: 0.9295 - accuracy: 0.6846 - val_loss: 0.7719 - val_accuracy: 0.7504\n",
            "Epoch 11/55\n",
            "219/219 [==============================] - ETA: 0s - loss: 0.8613 - accuracy: 0.7079\n",
            "Epoch 11: val_loss did not improve from 0.77189\n",
            "219/219 [==============================] - 6s 26ms/step - loss: 0.8613 - accuracy: 0.7079 - val_loss: 0.7843 - val_accuracy: 0.7373\n",
            "Epoch 12/55\n",
            "217/219 [============================>.] - ETA: 0s - loss: 0.8564 - accuracy: 0.7124\n",
            "Epoch 12: val_loss improved from 0.77189 to 0.75227, saving model to saved_models/audio_classification.hdf5\n",
            "219/219 [==============================] - 6s 26ms/step - loss: 0.8583 - accuracy: 0.7122 - val_loss: 0.7523 - val_accuracy: 0.7596\n",
            "Epoch 13/55\n",
            "218/219 [============================>.] - ETA: 0s - loss: 0.8190 - accuracy: 0.7266\n",
            "Epoch 13: val_loss improved from 0.75227 to 0.69069, saving model to saved_models/audio_classification.hdf5\n",
            "219/219 [==============================] - 6s 26ms/step - loss: 0.8187 - accuracy: 0.7267 - val_loss: 0.6907 - val_accuracy: 0.7733\n",
            "Epoch 14/55\n",
            "219/219 [==============================] - ETA: 0s - loss: 0.8004 - accuracy: 0.7324\n",
            "Epoch 14: val_loss did not improve from 0.69069\n",
            "219/219 [==============================] - 6s 26ms/step - loss: 0.8004 - accuracy: 0.7324 - val_loss: 0.7158 - val_accuracy: 0.7556\n",
            "Epoch 15/55\n",
            "218/219 [============================>.] - ETA: 0s - loss: 0.7663 - accuracy: 0.7397\n",
            "Epoch 15: val_loss improved from 0.69069 to 0.64573, saving model to saved_models/audio_classification.hdf5\n",
            "219/219 [==============================] - 6s 26ms/step - loss: 0.7662 - accuracy: 0.7397 - val_loss: 0.6457 - val_accuracy: 0.7865\n",
            "Epoch 16/55\n",
            "217/219 [============================>.] - ETA: 0s - loss: 0.7370 - accuracy: 0.7510\n",
            "Epoch 16: val_loss did not improve from 0.64573\n",
            "219/219 [==============================] - 6s 26ms/step - loss: 0.7383 - accuracy: 0.7505 - val_loss: 0.6479 - val_accuracy: 0.7825\n",
            "Epoch 17/55\n",
            "219/219 [==============================] - ETA: 0s - loss: 0.7117 - accuracy: 0.7559\n",
            "Epoch 17: val_loss improved from 0.64573 to 0.61145, saving model to saved_models/audio_classification.hdf5\n",
            "219/219 [==============================] - 6s 26ms/step - loss: 0.7117 - accuracy: 0.7559 - val_loss: 0.6114 - val_accuracy: 0.7951\n",
            "Epoch 18/55\n",
            "217/219 [============================>.] - ETA: 0s - loss: 0.6916 - accuracy: 0.7627\n",
            "Epoch 18: val_loss improved from 0.61145 to 0.60468, saving model to saved_models/audio_classification.hdf5\n",
            "219/219 [==============================] - 6s 26ms/step - loss: 0.6897 - accuracy: 0.7635 - val_loss: 0.6047 - val_accuracy: 0.7951\n",
            "Epoch 19/55\n",
            "218/219 [============================>.] - ETA: 0s - loss: 0.6666 - accuracy: 0.7735\n",
            "Epoch 19: val_loss improved from 0.60468 to 0.59839, saving model to saved_models/audio_classification.hdf5\n",
            "219/219 [==============================] - 8s 37ms/step - loss: 0.6671 - accuracy: 0.7737 - val_loss: 0.5984 - val_accuracy: 0.8100\n",
            "Epoch 20/55\n",
            "218/219 [============================>.] - ETA: 0s - loss: 0.6655 - accuracy: 0.7748\n",
            "Epoch 20: val_loss improved from 0.59839 to 0.58180, saving model to saved_models/audio_classification.hdf5\n",
            "219/219 [==============================] - 6s 25ms/step - loss: 0.6656 - accuracy: 0.7749 - val_loss: 0.5818 - val_accuracy: 0.8071\n",
            "Epoch 21/55\n",
            "217/219 [============================>.] - ETA: 0s - loss: 0.6324 - accuracy: 0.7873\n",
            "Epoch 21: val_loss improved from 0.58180 to 0.57200, saving model to saved_models/audio_classification.hdf5\n",
            "219/219 [==============================] - 6s 26ms/step - loss: 0.6322 - accuracy: 0.7875 - val_loss: 0.5720 - val_accuracy: 0.8226\n",
            "Epoch 22/55\n",
            "218/219 [============================>.] - ETA: 0s - loss: 0.6208 - accuracy: 0.7804\n",
            "Epoch 22: val_loss improved from 0.57200 to 0.54653, saving model to saved_models/audio_classification.hdf5\n",
            "219/219 [==============================] - 6s 25ms/step - loss: 0.6209 - accuracy: 0.7802 - val_loss: 0.5465 - val_accuracy: 0.8185\n",
            "Epoch 23/55\n",
            "217/219 [============================>.] - ETA: 0s - loss: 0.6110 - accuracy: 0.7886\n",
            "Epoch 23: val_loss improved from 0.54653 to 0.53615, saving model to saved_models/audio_classification.hdf5\n",
            "219/219 [==============================] - 6s 26ms/step - loss: 0.6113 - accuracy: 0.7881 - val_loss: 0.5362 - val_accuracy: 0.8220\n",
            "Epoch 24/55\n",
            "218/219 [============================>.] - ETA: 0s - loss: 0.6014 - accuracy: 0.7917\n",
            "Epoch 24: val_loss improved from 0.53615 to 0.53204, saving model to saved_models/audio_classification.hdf5\n",
            "219/219 [==============================] - 6s 26ms/step - loss: 0.6008 - accuracy: 0.7920 - val_loss: 0.5320 - val_accuracy: 0.8277\n",
            "Epoch 25/55\n",
            "217/219 [============================>.] - ETA: 0s - loss: 0.5712 - accuracy: 0.8050\n",
            "Epoch 25: val_loss did not improve from 0.53204\n",
            "219/219 [==============================] - 6s 26ms/step - loss: 0.5705 - accuracy: 0.8053 - val_loss: 0.5400 - val_accuracy: 0.8294\n",
            "Epoch 26/55\n",
            "219/219 [==============================] - ETA: 0s - loss: 0.5691 - accuracy: 0.8145\n",
            "Epoch 26: val_loss improved from 0.53204 to 0.51610, saving model to saved_models/audio_classification.hdf5\n",
            "219/219 [==============================] - 6s 26ms/step - loss: 0.5691 - accuracy: 0.8145 - val_loss: 0.5161 - val_accuracy: 0.8346\n",
            "Epoch 27/55\n",
            "218/219 [============================>.] - ETA: 0s - loss: 0.5602 - accuracy: 0.8095\n",
            "Epoch 27: val_loss did not improve from 0.51610\n",
            "219/219 [==============================] - 7s 30ms/step - loss: 0.5609 - accuracy: 0.8094 - val_loss: 0.5254 - val_accuracy: 0.8180\n",
            "Epoch 28/55\n",
            "217/219 [============================>.] - ETA: 0s - loss: 0.5443 - accuracy: 0.8149\n",
            "Epoch 28: val_loss improved from 0.51610 to 0.49529, saving model to saved_models/audio_classification.hdf5\n",
            "219/219 [==============================] - 6s 26ms/step - loss: 0.5444 - accuracy: 0.8149 - val_loss: 0.4953 - val_accuracy: 0.8363\n",
            "Epoch 29/55\n",
            "218/219 [============================>.] - ETA: 0s - loss: 0.5212 - accuracy: 0.8234\n",
            "Epoch 29: val_loss improved from 0.49529 to 0.48982, saving model to saved_models/audio_classification.hdf5\n",
            "219/219 [==============================] - 6s 26ms/step - loss: 0.5215 - accuracy: 0.8232 - val_loss: 0.4898 - val_accuracy: 0.8374\n",
            "Epoch 30/55\n",
            "218/219 [============================>.] - ETA: 0s - loss: 0.5297 - accuracy: 0.8165\n",
            "Epoch 30: val_loss did not improve from 0.48982\n",
            "219/219 [==============================] - 6s 26ms/step - loss: 0.5303 - accuracy: 0.8162 - val_loss: 0.4935 - val_accuracy: 0.8409\n",
            "Epoch 31/55\n",
            "217/219 [============================>.] - ETA: 0s - loss: 0.5118 - accuracy: 0.8257\n",
            "Epoch 31: val_loss did not improve from 0.48982\n",
            "219/219 [==============================] - 6s 26ms/step - loss: 0.5121 - accuracy: 0.8253 - val_loss: 0.4974 - val_accuracy: 0.8386\n",
            "Epoch 32/55\n",
            "217/219 [============================>.] - ETA: 0s - loss: 0.5045 - accuracy: 0.8256\n",
            "Epoch 32: val_loss improved from 0.48982 to 0.47896, saving model to saved_models/audio_classification.hdf5\n",
            "219/219 [==============================] - 6s 26ms/step - loss: 0.5053 - accuracy: 0.8252 - val_loss: 0.4790 - val_accuracy: 0.8466\n",
            "Epoch 33/55\n",
            "218/219 [============================>.] - ETA: 0s - loss: 0.4940 - accuracy: 0.8323\n",
            "Epoch 33: val_loss did not improve from 0.47896\n",
            "219/219 [==============================] - 6s 26ms/step - loss: 0.4940 - accuracy: 0.8322 - val_loss: 0.4802 - val_accuracy: 0.8489\n",
            "Epoch 34/55\n",
            "218/219 [============================>.] - ETA: 0s - loss: 0.4953 - accuracy: 0.8303\n",
            "Epoch 34: val_loss improved from 0.47896 to 0.46608, saving model to saved_models/audio_classification.hdf5\n",
            "219/219 [==============================] - 6s 27ms/step - loss: 0.4955 - accuracy: 0.8302 - val_loss: 0.4661 - val_accuracy: 0.8535\n",
            "Epoch 35/55\n",
            "217/219 [============================>.] - ETA: 0s - loss: 0.4591 - accuracy: 0.8466\n",
            "Epoch 35: val_loss did not improve from 0.46608\n",
            "219/219 [==============================] - 8s 38ms/step - loss: 0.4609 - accuracy: 0.8461 - val_loss: 0.4756 - val_accuracy: 0.8512\n",
            "Epoch 36/55\n",
            "217/219 [============================>.] - ETA: 0s - loss: 0.4691 - accuracy: 0.8426\n",
            "Epoch 36: val_loss did not improve from 0.46608\n",
            "219/219 [==============================] - 6s 26ms/step - loss: 0.4685 - accuracy: 0.8427 - val_loss: 0.4853 - val_accuracy: 0.8414\n",
            "Epoch 37/55\n",
            "219/219 [==============================] - ETA: 0s - loss: 0.4689 - accuracy: 0.8409\n",
            "Epoch 37: val_loss did not improve from 0.46608\n",
            "219/219 [==============================] - 6s 28ms/step - loss: 0.4689 - accuracy: 0.8409 - val_loss: 0.4685 - val_accuracy: 0.8454\n",
            "Epoch 38/55\n",
            "218/219 [============================>.] - ETA: 0s - loss: 0.4541 - accuracy: 0.8492\n",
            "Epoch 38: val_loss did not improve from 0.46608\n",
            "219/219 [==============================] - 6s 27ms/step - loss: 0.4538 - accuracy: 0.8494 - val_loss: 0.4765 - val_accuracy: 0.8466\n",
            "Epoch 39/55\n",
            "219/219 [==============================] - ETA: 0s - loss: 0.4531 - accuracy: 0.8422\n",
            "Epoch 39: val_loss improved from 0.46608 to 0.45653, saving model to saved_models/audio_classification.hdf5\n",
            "219/219 [==============================] - 6s 26ms/step - loss: 0.4531 - accuracy: 0.8422 - val_loss: 0.4565 - val_accuracy: 0.8558\n",
            "Epoch 40/55\n",
            "219/219 [==============================] - ETA: 0s - loss: 0.4540 - accuracy: 0.8431\n",
            "Epoch 40: val_loss improved from 0.45653 to 0.45016, saving model to saved_models/audio_classification.hdf5\n",
            "219/219 [==============================] - 6s 27ms/step - loss: 0.4540 - accuracy: 0.8431 - val_loss: 0.4502 - val_accuracy: 0.8643\n",
            "Epoch 41/55\n",
            "218/219 [============================>.] - ETA: 0s - loss: 0.4226 - accuracy: 0.8525\n",
            "Epoch 41: val_loss did not improve from 0.45016\n",
            "219/219 [==============================] - 6s 27ms/step - loss: 0.4235 - accuracy: 0.8523 - val_loss: 0.4579 - val_accuracy: 0.8569\n",
            "Epoch 42/55\n",
            "217/219 [============================>.] - ETA: 0s - loss: 0.4323 - accuracy: 0.8541\n",
            "Epoch 42: val_loss did not improve from 0.45016\n",
            "219/219 [==============================] - 6s 27ms/step - loss: 0.4328 - accuracy: 0.8540 - val_loss: 0.4618 - val_accuracy: 0.8506\n",
            "Epoch 43/55\n",
            "217/219 [============================>.] - ETA: 0s - loss: 0.4286 - accuracy: 0.8492\n",
            "Epoch 43: val_loss improved from 0.45016 to 0.44226, saving model to saved_models/audio_classification.hdf5\n",
            "219/219 [==============================] - 6s 27ms/step - loss: 0.4287 - accuracy: 0.8492 - val_loss: 0.4423 - val_accuracy: 0.8638\n",
            "Epoch 44/55\n",
            "218/219 [============================>.] - ETA: 0s - loss: 0.4299 - accuracy: 0.8519\n",
            "Epoch 44: val_loss improved from 0.44226 to 0.42974, saving model to saved_models/audio_classification.hdf5\n",
            "219/219 [==============================] - 6s 27ms/step - loss: 0.4295 - accuracy: 0.8521 - val_loss: 0.4297 - val_accuracy: 0.8666\n",
            "Epoch 45/55\n",
            "218/219 [============================>.] - ETA: 0s - loss: 0.4132 - accuracy: 0.8587\n",
            "Epoch 45: val_loss did not improve from 0.42974\n",
            "219/219 [==============================] - 6s 27ms/step - loss: 0.4131 - accuracy: 0.8587 - val_loss: 0.4301 - val_accuracy: 0.8701\n",
            "Epoch 46/55\n",
            "218/219 [============================>.] - ETA: 0s - loss: 0.3957 - accuracy: 0.8660\n",
            "Epoch 46: val_loss improved from 0.42974 to 0.42706, saving model to saved_models/audio_classification.hdf5\n",
            "219/219 [==============================] - 6s 27ms/step - loss: 0.3971 - accuracy: 0.8654 - val_loss: 0.4271 - val_accuracy: 0.8701\n",
            "Epoch 47/55\n",
            "219/219 [==============================] - ETA: 0s - loss: 0.3966 - accuracy: 0.8631\n",
            "Epoch 47: val_loss improved from 0.42706 to 0.42439, saving model to saved_models/audio_classification.hdf5\n",
            "219/219 [==============================] - 6s 27ms/step - loss: 0.3966 - accuracy: 0.8631 - val_loss: 0.4244 - val_accuracy: 0.8758\n",
            "Epoch 48/55\n",
            "219/219 [==============================] - ETA: 0s - loss: 0.3969 - accuracy: 0.8637\n",
            "Epoch 48: val_loss did not improve from 0.42439\n",
            "219/219 [==============================] - 6s 27ms/step - loss: 0.3969 - accuracy: 0.8637 - val_loss: 0.4351 - val_accuracy: 0.8724\n",
            "Epoch 49/55\n",
            "218/219 [============================>.] - ETA: 0s - loss: 0.3806 - accuracy: 0.8739\n",
            "Epoch 49: val_loss did not improve from 0.42439\n",
            "219/219 [==============================] - 6s 27ms/step - loss: 0.3805 - accuracy: 0.8739 - val_loss: 0.4422 - val_accuracy: 0.8678\n",
            "Epoch 50/55\n",
            "218/219 [============================>.] - ETA: 0s - loss: 0.3818 - accuracy: 0.8680\n",
            "Epoch 50: val_loss did not improve from 0.42439\n",
            "219/219 [==============================] - 6s 27ms/step - loss: 0.3819 - accuracy: 0.8679 - val_loss: 0.4384 - val_accuracy: 0.8683\n",
            "Epoch 51/55\n",
            "217/219 [============================>.] - ETA: 0s - loss: 0.3773 - accuracy: 0.8737\n",
            "Epoch 51: val_loss improved from 0.42439 to 0.42266, saving model to saved_models/audio_classification.hdf5\n",
            "219/219 [==============================] - 6s 27ms/step - loss: 0.3785 - accuracy: 0.8737 - val_loss: 0.4227 - val_accuracy: 0.8706\n",
            "Epoch 52/55\n",
            "217/219 [============================>.] - ETA: 0s - loss: 0.3773 - accuracy: 0.8681\n",
            "Epoch 52: val_loss did not improve from 0.42266\n",
            "219/219 [==============================] - 6s 27ms/step - loss: 0.3769 - accuracy: 0.8681 - val_loss: 0.4234 - val_accuracy: 0.8724\n",
            "Epoch 53/55\n",
            "217/219 [============================>.] - ETA: 0s - loss: 0.3679 - accuracy: 0.8734\n",
            "Epoch 53: val_loss did not improve from 0.42266\n",
            "219/219 [==============================] - 6s 26ms/step - loss: 0.3677 - accuracy: 0.8734 - val_loss: 0.4245 - val_accuracy: 0.8683\n",
            "Epoch 54/55\n",
            "219/219 [==============================] - ETA: 0s - loss: 0.3606 - accuracy: 0.8762\n",
            "Epoch 54: val_loss improved from 0.42266 to 0.41120, saving model to saved_models/audio_classification.hdf5\n",
            "219/219 [==============================] - 6s 27ms/step - loss: 0.3606 - accuracy: 0.8762 - val_loss: 0.4112 - val_accuracy: 0.8838\n",
            "Epoch 55/55\n",
            "218/219 [============================>.] - ETA: 0s - loss: 0.3546 - accuracy: 0.8774\n",
            "Epoch 55: val_loss did not improve from 0.41120\n",
            "219/219 [==============================] - 6s 26ms/step - loss: 0.3543 - accuracy: 0.8776 - val_loss: 0.4164 - val_accuracy: 0.8804\n",
            "Training completed in time:  0:06:23.583051\n"
          ]
        }
      ],
      "source": [
        "## Entrenamiento del modelo\n",
        "\n",
        "num_epochs = 55\n",
        "num_batch_size = 32\n",
        "\n",
        "checkpointer = ModelCheckpoint(filepath='saved_models/audio_classification.hdf5', \n",
        "                               verbose=1, save_best_only=True)\n",
        "start = datetime.now()\n",
        "\n",
        "history=model.fit(X_train, y_train, batch_size=num_batch_size, epochs=num_epochs, validation_data=(X_test, y_test), callbacks=[checkpointer], verbose=1)\n",
        "\n",
        "\n",
        "duration = datetime.now() - start\n",
        "print(\"Training completed in time: \", duration)"
      ]
    },
    {
      "cell_type": "code",
      "source": [
        "#pd.DataFrame(history.history)"
      ],
      "metadata": {
        "id": "Lf5F28QaKMpu"
      },
      "id": "Lf5F28QaKMpu",
      "execution_count": 26,
      "outputs": []
    },
    {
      "cell_type": "code",
      "source": [
        "# Plot the loss curves\n",
        "pd.DataFrame(history.history).plot()\n",
        "plt.title(\"Model training curves\")"
      ],
      "metadata": {
        "colab": {
          "base_uri": "https://localhost:8080/",
          "height": 480
        },
        "id": "VbrIV4GkKXhy",
        "outputId": "d2fa4040-6775-48c6-b5e2-a8a5102c497a"
      },
      "id": "VbrIV4GkKXhy",
      "execution_count": 27,
      "outputs": [
        {
          "output_type": "execute_result",
          "data": {
            "text/plain": [
              "Text(0.5, 1.0, 'Model training curves')"
            ]
          },
          "metadata": {},
          "execution_count": 27
        },
        {
          "output_type": "display_data",
          "data": {
            "text/plain": [
              "<Figure size 748.8x514.8 with 1 Axes>"
            ],
            "image/png": "[encoded data removed]"
          },
          "metadata": {
            "needs_background": "light"
          }
        }
      ]
    },
    {
      "cell_type": "code",
      "execution_count": 28,
      "id": "virgin-butter",
      "metadata": {
        "id": "virgin-butter",
        "colab": {
          "base_uri": "https://localhost:8080/"
        },
        "outputId": "a2cbd473-cfb0-4e55-faf2-2c137447da0d"
      },
      "outputs": [
        {
          "output_type": "stream",
          "name": "stdout",
          "text": [
            "0.880366325378418\n"
          ]
        }
      ],
      "source": [
        "#Evaluamos la precisión\n",
        "\n",
        "test_accuracy=model.evaluate(X_test,y_test,verbose=0)\n",
        "print(test_accuracy[1])"
      ]
    },
    {
      "cell_type": "code",
      "execution_count": 29,
      "id": "laughing-genesis",
      "metadata": {
        "id": "laughing-genesis",
        "colab": {
          "base_uri": "https://localhost:8080/"
        },
        "outputId": "ddab5103-023a-4945-8c3c-f6550bde70f6"
      },
      "outputs": [
        {
          "output_type": "stream",
          "name": "stdout",
          "text": [
            "[3]\n"
          ]
        }
      ],
      "source": [
        "\n",
        "#predicción de un archivo de audio\n",
        "filename=\"/content/drive/MyDrive/Uninorte/Todo_cuenta_uninorte/UrbanSound8K/audio/fold1/101415-3-0-2.wav\"\n",
        "prediction_feature=features_extractor(filename)\n",
        "prediction_feature=prediction_feature.reshape(1,-1)\n",
        "predictions = model.predict(prediction_feature)  # Realiza las predicciones en el conjunto de testeo X_test\n",
        "clases_predichas = predictions.argmax(axis=-1)  # Obtiene las clases predichas a partir de la función argmax\n",
        "print(clases_predichas)  # Imprime las clases predichas"
      ]
    },
    {
      "cell_type": "code",
      "execution_count": 30,
      "id": "strange-driving",
      "metadata": {
        "id": "strange-driving",
        "colab": {
          "base_uri": "https://localhost:8080/"
        },
        "outputId": "9aa8ceae-ba0d-45a5-dcb9-8920e690de6a"
      },
      "outputs": [
        {
          "output_type": "execute_result",
          "data": {
            "text/plain": [
              "array([-2.1497850e+02,  1.0111462e+02,  1.0701711e+01,  2.9793997e+01,\n",
              "        2.2425907e+00,  3.5765026e+01, -5.8683626e-02,  2.0328924e+01,\n",
              "       -7.3071065e+00,  1.1149619e+01, -1.4454793e+01,  9.1833763e+00,\n",
              "       -1.3252478e+01,  5.7286201e+00, -1.0526182e+01,  3.0208290e+00,\n",
              "       -8.5444889e+00,  4.1735864e+00, -3.4938176e+00,  4.3296556e+00,\n",
              "       -9.4101572e+00,  5.2094407e+00, -5.0576735e+00, -7.4800116e-01,\n",
              "       -3.8753324e+00,  1.5019976e+00, -5.1832438e+00,  2.9086030e+00,\n",
              "       -7.3149242e+00,  2.8414812e+00, -6.0032020e+00, -4.3620393e-01,\n",
              "       -4.1044927e+00,  1.8234726e+00, -3.1372077e+00,  1.8012607e+00,\n",
              "       -3.3252137e+00,  1.1979816e+00, -2.1982739e+00,  1.7678106e+00],\n",
              "      dtype=float32)"
            ]
          },
          "metadata": {},
          "execution_count": 30
        }
      ],
      "source": [
        "X_test[1]"
      ]
    },
    {
      "cell_type": "code",
      "source": [
        "#predicción de testeo\n",
        "predictions = model.predict(X_testgraph)  # Realiza las predicciones en el conjunto de testeo X_test\n",
        "clases_predichas = predictions.argmax(axis=-1)  # Obtiene las clases predichas a partir de la función argmax\n",
        "print(clases_predichas)  # Imprime las clases predichas\n",
        "\n",
        "\n",
        "predicciones = labelencoder.inverse_transform(clases_predichas) \n",
        "predicciones\n",
        "\n",
        "\n",
        "\n",
        "prednew = []\n",
        "\n",
        "for k in range(len(predicciones)):\n",
        "    if predicciones[k] == \"dog_bark\":  \n",
        "        prednew.append(\"orange\")\n",
        "\n",
        "    if predicciones[k] == \"drilling\":  \n",
        "        prednew.append(\"blue\") \n",
        "\n",
        "    if predicciones[k] == \"jackhammer\":  \n",
        "        prednew.append(\"cornflowerblue\") \n",
        "\n",
        "    if predicciones[k] == \"engine_idling\":  \n",
        "        prednew.append(\"lime\") \n",
        "\n",
        "    if predicciones[k] == \"siren\":  \n",
        "        prednew.append(\"slategrey\") \n",
        "\n",
        "    if predicciones[k] == \"gun_shot\":  \n",
        "        prednew.append(\"pink\")\n",
        "\n",
        "    if predicciones[k] == \"street_music\":  \n",
        "        prednew.append(\"brown\")\n",
        "\n",
        "    if predicciones[k] == \"air_conditioner\":  \n",
        "        prednew.append(\"violet\")\n",
        "\n",
        "    if predicciones[k] == \"car_horn\":  \n",
        "        prednew.append(\"red\")\n",
        "\n",
        "    if predicciones[k] == \"children_playing\":  \n",
        "        prednew.append(\"green\")\n",
        "\n",
        "\n",
        "prednew = np.array(prednew)\n",
        "\n",
        "\n",
        "scp = pd.DataFrame(X_testgraph).T  # Convierte la lista de listas en un dataframe y lo transpone (por defecto es por columnas)\n",
        "\n",
        "                          # Itera sobre las columnas.\n",
        "for i in range(12):  \n",
        "\n",
        "      plt.scatter([i] * len(scp.iloc[i]), scp.iloc[i],c=prednew, s=100) \n",
        "\n",
        "plt.style.use('seaborn-talk')"
      ],
      "metadata": {
        "colab": {
          "base_uri": "https://localhost:8080/",
          "height": 462
        },
        "id": "Tz_kxJ8ZeZQ4",
        "outputId": "8d9b6d2f-9fd8-4d9c-bde0-4debaae63aa9"
      },
      "id": "Tz_kxJ8ZeZQ4",
      "execution_count": 31,
      "outputs": [
        {
          "output_type": "stream",
          "name": "stdout",
          "text": [
            "[5 7 0 6 6 0 9 7 4 8 3 9 5 7 4 4 7 3 6 3 5 1 4 0 7 7 2]\n"
          ]
        },
        {
          "output_type": "display_data",
          "data": {
            "text/plain": [
              "<Figure size 748.8x514.8 with 1 Axes>"
            ],
            "image/png": "[encoded data removed]"
          },
          "metadata": {
            "needs_background": "light"
          }
        }
      ]
    },
    {
      "cell_type": "code",
      "source": [
        "\n",
        "scp = pd.DataFrame(X_testgraph).T  # Convierte la lista de listas en un dataframe y lo transpone (por defecto es por columnas)\n",
        "                          # Itera sobre las columnas.\n",
        "for k in range(12):  \n",
        "      \n",
        "      plt.scatter([k] * len(scp.iloc[k]), scp.iloc[k],c=prednew=='lime', s=100, cmap = colors.ListedColormap(['black', 'lime'])) \n",
        "\n",
        "plt.style.use('seaborn-talk')\n",
        "      "
      ],
      "metadata": {
        "colab": {
          "base_uri": "https://localhost:8080/",
          "height": 445
        },
        "id": "Zp7Ml0VIgVY3",
        "outputId": "306c6345-8f3d-4660-930b-1ad9b7c8e5fb"
      },
      "id": "Zp7Ml0VIgVY3",
      "execution_count": 32,
      "outputs": [
        {
          "output_type": "display_data",
          "data": {
            "text/plain": [
              "<Figure size 748.8x514.8 with 1 Axes>"
            ],
            "image/png": "[encoded data removed]"
          },
          "metadata": {
            "needs_background": "light"
          }
        }
      ]
    },
    {
      "cell_type": "markdown",
      "id": "advanced-booth",
      "metadata": {
        "id": "advanced-booth"
      },
      "source": [
        "### Testeando algunos sonidos\n",
        "\n",
        "\n",
        "\n",
        "Pasos\n",
        "\n",
        "- Carga del modelo\n",
        "- Carga de audio y preprocesado\n",
        "- prediccción de clases con el modelo ya entrenado\n",
        "- Transformación inversa de clase predicha a nombre de la clase predicha"
      ]
    },
    {
      "cell_type": "code",
      "execution_count": 33,
      "id": "chubby-newsletter",
      "metadata": {
        "scrolled": true,
        "id": "chubby-newsletter",
        "colab": {
          "base_uri": "https://localhost:8080/"
        },
        "outputId": "5919c474-80af-438d-e8d0-87f01108448b"
      },
      "outputs": [
        {
          "output_type": "stream",
          "name": "stdout",
          "text": [
            "[9]\n"
          ]
        },
        {
          "output_type": "execute_result",
          "data": {
            "text/plain": [
              "array(['street_music'], dtype='<U16')"
            ]
          },
          "metadata": {},
          "execution_count": 33
        }
      ],
      "source": [
        "\n",
        "#uso del modelo\n",
        "\n",
        "\n",
        "modelo = load_model('/content/saved_models/audio_classification.hdf5')\n",
        "\n",
        "filename=\"/content/drive/MyDrive/Uninorte/Todo_cuenta_uninorte/Puntos1-50/Splits/P5splits/Punto 01 P5.wav_segment103.wav\"\n",
        "\n",
        "#cargamos el audio y extraemos coeficientes mfcc\n",
        "audio, sample_rate = librosa.load(filename, res_type='kaiser_best') \n",
        "mfccs_features = librosa.feature.mfcc(y=audio, sr=sample_rate, n_mfcc=40)\n",
        "mfccs_scaled_features = np.mean(mfccs_features.T,axis=0)\n",
        "mfccs_scaled_features=mfccs_scaled_features.reshape(1,-1)\n",
        "\n",
        "predictions = modelo.predict(mfccs_scaled_features)  # Realiza las prediccion a los coeficientes del archivo de audio seleccionado\n",
        "clase_predicha = predictions.argmax(axis=-1)  # Obtiene las clase predicha a partir de la función argmax\n",
        "print(clase_predicha)\n",
        "prediction_class = labelencoder.inverse_transform(clase_predicha) \n",
        "prediction_class"
      ]
    }
  ],
  "metadata": {
    "kernelspec": {
      "display_name": "Python 3",
      "language": "python",
      "name": "python3"
    },
    "language_info": {
      "codemirror_mode": {
        "name": "ipython",
        "version": 3
      },
      "file_extension": ".py",
      "mimetype": "text/x-python",
      "name": "python",
      "nbconvert_exporter": "python",
      "pygments_lexer": "ipython3",
      "version": "3.8.5"
    },
    "colab": {
      "name": "Clasificador de audio_final.ipynb",
      "provenance": [],
      "collapsed_sections": []
    }
  },
  "nbformat": 4,
  "nbformat_minor": 5
}